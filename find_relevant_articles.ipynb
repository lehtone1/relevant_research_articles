{
 "cells": [
  {
   "cell_type": "markdown",
   "metadata": {},
   "source": [
    "Check Selenium\n",
    "\n",
    "Check ResearchGate robot exclusion standard (robots.txt)"
   ]
  },
  {
   "cell_type": "code",
   "execution_count": 1,
   "metadata": {},
   "outputs": [],
   "source": [
    "import requests\n",
    "import json"
   ]
  },
  {
   "cell_type": "code",
   "execution_count": 2,
   "metadata": {},
   "outputs": [],
   "source": [
    "def create_url(search_query, amount):\n",
    "    website = \"https://www.researchgate.net/search.SearchBox.loadMore.html?type=publication&query=\"\n",
    "    return website + \"%20\".join(search_query) + \"&offset=50&limit=\" + str(amount)\n",
    "    "
   ]
  },
  {
   "cell_type": "code",
   "execution_count": 3,
   "metadata": {},
   "outputs": [],
   "source": [
    "def get_name_and_link(items):\n",
    "    articles = {}\n",
    "    for item in items:\n",
    "        title = item[\"title\"]\n",
    "        url = item[\"publicationActions\"]['publicationUrl']\n",
    "        articles[title] = url\n",
    "    return(articles)"
   ]
  },
  {
   "cell_type": "code",
   "execution_count": 4,
   "metadata": {},
   "outputs": [],
   "source": [
    "def get_articles(search_query, amount = 200):\n",
    "    url = create_url(search_query, amount)\n",
    "    print(url)\n",
    "    request = requests.get(url)\n",
    "    content = request.content\n",
    "    content_json = json.loads(content)\n",
    "    items = content_json[\"result\"]['searchSearch']['publication']['items']\n",
    "    articles = get_name_and_link(items)\n",
    "    return(articles)"
   ]
  },
  {
   "cell_type": "code",
   "execution_count": 5,
   "metadata": {},
   "outputs": [],
   "source": [
    "search_query = [\"emotion\", \"immersion\", \"presence\"]"
   ]
  },
  {
   "cell_type": "code",
   "execution_count": 6,
   "metadata": {},
   "outputs": [
    {
     "name": "stdout",
     "output_type": "stream",
     "text": [
      "https://www.researchgate.net/search.SearchBox.loadMore.html?type=publication&query=emotion%20immersion%20presence&offset=50&limit=200\n"
     ]
    }
   ],
   "source": [
    "articles = get_articles(search_query)"
   ]
  },
  {
   "cell_type": "code",
   "execution_count": 7,
   "metadata": {},
   "outputs": [
    {
     "data": {
      "text/plain": [
       "195"
      ]
     },
     "execution_count": 7,
     "metadata": {},
     "output_type": "execute_result"
    }
   ],
   "source": [
    "len(articles)"
   ]
  }
 ],
 "metadata": {
  "kernelspec": {
   "display_name": "Python 3",
   "language": "python",
   "name": "python3"
  },
  "language_info": {
   "codemirror_mode": {
    "name": "ipython",
    "version": 3
   },
   "file_extension": ".py",
   "mimetype": "text/x-python",
   "name": "python",
   "nbconvert_exporter": "python",
   "pygments_lexer": "ipython3",
   "version": "3.7.1"
  }
 },
 "nbformat": 4,
 "nbformat_minor": 2
}
