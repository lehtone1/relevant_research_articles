{
 "cells": [
  {
   "cell_type": "code",
   "execution_count": 1,
   "metadata": {},
   "outputs": [],
   "source": [
    "import json\n",
    "import re"
   ]
  },
  {
   "cell_type": "markdown",
   "metadata": {},
   "source": [
    "# Load Data"
   ]
  },
  {
   "cell_type": "code",
   "execution_count": 2,
   "metadata": {},
   "outputs": [],
   "source": [
    "search_query = [\"technology\", \"for\", \"peacebuilding\"]"
   ]
  },
  {
   "cell_type": "code",
   "execution_count": 3,
   "metadata": {},
   "outputs": [
    {
     "data": {
      "text/plain": [
       "'technology_for_peacebuilding_references.json'"
      ]
     },
     "execution_count": 3,
     "metadata": {},
     "output_type": "execute_result"
    }
   ],
   "source": [
    "file_name = \"_\".join(search_query) + \"_references\" +  \".json\"; file_name"
   ]
  },
  {
   "cell_type": "code",
   "execution_count": 4,
   "metadata": {},
   "outputs": [],
   "source": [
    "references = json.load( open( file_name ) )"
   ]
  },
  {
   "cell_type": "markdown",
   "metadata": {},
   "source": [
    "# Most Cited References"
   ]
  },
  {
   "cell_type": "code",
   "execution_count": 5,
   "metadata": {},
   "outputs": [],
   "source": [
    "def generalize_reference_name(name):\n",
    "    \"\"\"Generalize the name of an article reference into a simplified version to avoid having different names that \n",
    "    are linked to the same article\n",
    "\n",
    "    Keyword arguments:\n",
    "    name -- the name of the reference\n",
    "    \"\"\"\n",
    "    alphanumeric = re.sub(\"[^\\w\\s]\", \"\", name)\n",
    "    return alphanumeric.lower()"
   ]
  },
  {
   "cell_type": "code",
   "execution_count": 6,
   "metadata": {},
   "outputs": [],
   "source": [
    "def create_occurance_dict(flat_references):\n",
    "    \"\"\"Create a dictionary that has as its keys the names of the articles and as its keys the number of times \n",
    "    they were referred\n",
    "\n",
    "    Keyword arguments:\n",
    "    flat_references -- A list of reference names\n",
    "    \"\"\"\n",
    "    reference_occurances = {}\n",
    "    for name in flat_references:\n",
    "        reference_occurances[name] = reference_occurances.get(name, 0) + 1\n",
    "    reference_occurances_sorted = sorted(reference_occurances.items(), key = lambda x: x[1], reverse = True)\n",
    "    return reference_occurances_sorted"
   ]
  },
  {
   "cell_type": "code",
   "execution_count": 7,
   "metadata": {},
   "outputs": [],
   "source": [
    "def get_most_referred_articles(references, min_references):\n",
    "    \"\"\"Return the most referred articles in a reference dictionary that surpass the minimum reference limit\n",
    "\n",
    "    Keyword arguments:\n",
    "    references -- A dictionary that has as its keys article names and as its values list of references\n",
    "    min_references -- The minimum number of references needed to be added to the most referred articles list\n",
    "    \"\"\"\n",
    "    flat_references = [generalize_reference_name(reference_name) for reference_list in references.values() for reference_name in reference_list]\n",
    "    reference_occurances = create_occurance_dict(flat_references)\n",
    "    most_referred_articles = [item for item in reference_occurances if(item[1] >= min_references)]\n",
    "    return most_referred_articles"
   ]
  },
  {
   "cell_type": "code",
   "execution_count": 8,
   "metadata": {},
   "outputs": [
    {
     "data": {
      "text/plain": [
       "[('introduction', 16),\n",
       " ('violence peace and peace research', 9),\n",
       " ('hybrid peace the interaction between topdown and bottomup peace', 8),\n",
       " ('cultural violence', 6),\n",
       " ('avatars of eurocentrism in the critique of the liberal peace', 6),\n",
       " ('empowerment or imposition dilemmas of local ownership in postconflict peacebuilding processes',\n",
       "  6),\n",
       " ('armed conflict 19462001 a new dataset', 6),\n",
       " ('rido clan feuding and conflict management in mindanao', 6),\n",
       " ('indigenous peacemaking versus the liberal peace', 5),\n",
       " ('precarious peacebuilding friction in globallocal encounters', 5),\n",
       " ('the local turn in peace building a critical agenda for peace', 5),\n",
       " ('becoming liberal unbecoming liberalism liberallocal hybridity via the everyday as a response to the paradoxes of liberal peacebuilding',\n",
       "  5),\n",
       " ('the securitydevelopment nexus and the rise of antiforeign policy', 5),\n",
       " ('saving liberal peacebuilding', 5)]"
      ]
     },
     "execution_count": 8,
     "metadata": {},
     "output_type": "execute_result"
    }
   ],
   "source": [
    "get_most_referred_articles(references, 5)"
   ]
  }
 ],
 "metadata": {
  "kernelspec": {
   "display_name": "Python 3",
   "language": "python",
   "name": "python3"
  },
  "language_info": {
   "codemirror_mode": {
    "name": "ipython",
    "version": 3
   },
   "file_extension": ".py",
   "mimetype": "text/x-python",
   "name": "python",
   "nbconvert_exporter": "python",
   "pygments_lexer": "ipython3",
   "version": "3.7.1"
  }
 },
 "nbformat": 4,
 "nbformat_minor": 2
}
