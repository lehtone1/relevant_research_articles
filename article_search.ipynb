{
 "cells": [
  {
   "cell_type": "markdown",
   "metadata": {},
   "source": [
    "Improvement list:\n",
    "\n",
    "1. Tell how many articles were found with the search term\n",
    "2. Clock all the phases and find bottlenecks\n",
    "3. Investigate why some pages show reference list and others don't, see if there is a way to go around it"
   ]
  },
  {
   "cell_type": "markdown",
   "metadata": {},
   "source": [
    "https://journals.sagepub.com/action/doSearch?content=articlesChapters&countTerms=true&target=default&field1=AllField&text1=circular+economy&field2=AllField&text2=plastic+packaging&field3=AllField&text3=value+creation"
   ]
  },
  {
   "cell_type": "code",
   "execution_count": 1,
   "metadata": {},
   "outputs": [],
   "source": [
    "import concurrent.futures\n",
    "import requests\n",
    "from bs4 import BeautifulSoup\n",
    "import time\n",
    "import json\n",
    "import re"
   ]
  },
  {
   "cell_type": "code",
   "execution_count": 2,
   "metadata": {},
   "outputs": [],
   "source": [
    "MAX_THREADS = 30"
   ]
  },
  {
   "cell_type": "code",
   "execution_count": 3,
   "metadata": {},
   "outputs": [],
   "source": [
    "search_query = [\"circular economy\", \"plastic packaging\", \"value creation\"]"
   ]
  },
  {
   "cell_type": "markdown",
   "metadata": {},
   "source": [
    "https://httpbin.org/anything"
   ]
  },
  {
   "cell_type": "code",
   "execution_count": 4,
   "metadata": {},
   "outputs": [],
   "source": [
    "#headers = {\n",
    "#    \"Accept\": \"text/html,application/xhtml+xml,application/xml;q=0.9,image/avif,image/webp,image/apng,*/*;q=0.8,application/signed-exchange;v=b3;q=0.9\", \n",
    "#    \"Accept-Encoding\": \"gzip, deflate, br\", \n",
    "#    \"Accept-Language\": \"en-US,en;q=0.9,fi;q=0.8\", \n",
    "#    \"Host\": \"httpbin.org\", \n",
    "#    \"Sec-Fetch-Dest\": \"document\", \n",
    "#    \"Sec-Fetch-Mode\": \"navigate\", \n",
    "#    \"Sec-Fetch-Site\": \"none\", \n",
    "#    \"Upgrade-Insecure-Requests\": \"1\", \n",
    "#    \"User-Agent\": \"Mozilla/5.0 (Macintosh; Intel Mac OS X 10_14_6) AppleWebKit/537.36 (KHTML, like Gecko) Chrome/86.0.4240.111 Safari/537.36\", \n",
    "#    \"X-Amzn-Trace-Id\": \"Root=1-5f997c9a-1b62026a26061a4035776665\"\n",
    "#  }"
   ]
  },
  {
   "cell_type": "markdown",
   "metadata": {},
   "source": [
    "# Classes"
   ]
  },
  {
   "cell_type": "code",
   "execution_count": 5,
   "metadata": {},
   "outputs": [],
   "source": [
    "class SearchResult:\n",
    "    \n",
    "    def __init__(self, search_query, articles):\n",
    "        self.search_query = search_query\n",
    "        self.articles = articles"
   ]
  },
  {
   "cell_type": "code",
   "execution_count": 6,
   "metadata": {},
   "outputs": [],
   "source": [
    "class Article:\n",
    "    \n",
    "    def __init__(self, name, link = \"\", references = []):\n",
    "        self.__name = self.generalize_article_name(name)\n",
    "        self.__link = link\n",
    "        self.__references = [self.generalize_article_name(ref) for ref in references]\n",
    "        \n",
    "    def get_name(self):\n",
    "        return self.__name\n",
    "    \n",
    "    def get_link(self):\n",
    "        return self.__link\n",
    "    \n",
    "    def get_references(self):\n",
    "        return self.__references\n",
    "        \n",
    "    def set_name(self, name):\n",
    "        self.__name = self.generalize_article_name(name)\n",
    "        \n",
    "    def set_link(self, link):\n",
    "        self.__link = link\n",
    "    \n",
    "    def set_references(self, references):\n",
    "        self.__references = [self.generalize_article_name(ref) for ref in references]\n",
    "        \n",
    "    def generalize_article_name(self, name):\n",
    "        \"\"\"Generalize the name of an article reference into a simplified version to avoid having different names that \n",
    "        are linked to the same article\n",
    "    \n",
    "        Keyword arguments:\n",
    "        name -- the name of the reference\n",
    "        \"\"\"\n",
    "        alphanumeric = re.sub(\"[^\\w\\s]\", \"\", name)\n",
    "        return alphanumeric.lower()"
   ]
  },
  {
   "cell_type": "markdown",
   "metadata": {},
   "source": [
    "# Functions"
   ]
  },
  {
   "cell_type": "code",
   "execution_count": 7,
   "metadata": {},
   "outputs": [],
   "source": [
    "def create_base_url(search_query):\n",
    "    url = \"https://journals.sagepub.com/action/doSearch?content=articlesChapters&countTerms=true&target=default\"\n",
    "    num = len(search_query)\n",
    "    for i in range(num):\n",
    "        pre_term = \"&field\" + str(i+1) + \"=AllField&text\" + str(i+1) + \"=\"\n",
    "        search_term = search_query[i].replace(\" \", \"+\")\n",
    "        url = url + pre_term + search_term\n",
    "    return url"
   ]
  },
  {
   "cell_type": "code",
   "execution_count": 8,
   "metadata": {},
   "outputs": [],
   "source": [
    "def create_page_list(base_url, page_size, page_amount):\n",
    "    return [base_url + \"&pageSize=\" + str(page_size) + \"&startPage=\" + str(i) for i in range(page_amount)]"
   ]
  },
  {
   "cell_type": "code",
   "execution_count": 9,
   "metadata": {},
   "outputs": [],
   "source": [
    "def create_search_urls(search_query, page_size, page_amount):\n",
    "    \"\"\"Create an url from the given search query\n",
    "\n",
    "    Keyword arguments:\n",
    "    search_query -- a list of given search words\n",
    "    amount -- the amount of articles mathicng the searh qyery to be shown\n",
    "    \"\"\"\n",
    "    url = create_base_url(search_query)\n",
    "    url_pages = create_page_list(url, page_size, page_amount)\n",
    "    return url_pages\n",
    "    "
   ]
  },
  {
   "cell_type": "code",
   "execution_count": 10,
   "metadata": {},
   "outputs": [],
   "source": [
    "def find_names_links(soup):\n",
    "    \"\"\"Create an article dictionary that contains article names as its keys and article \n",
    "    paths as its keys.\n",
    "\n",
    "    Keyword arguments:\n",
    "    soup -- a webpage parsed with Beautifulsoup\n",
    "    \"\"\"\n",
    "    sage_url = \"https://journals.sagepub.com\"\n",
    "    articles = []\n",
    "    for d in soup.find_all(\"span\", attrs = {\"class\": \"art_title\"}):\n",
    "        name = d.text\n",
    "        link = sage_url + d.a[\"href\"]\n",
    "        articles.append(Article(name, link))\n",
    "    return articles"
   ]
  },
  {
   "cell_type": "code",
   "execution_count": 11,
   "metadata": {},
   "outputs": [],
   "source": [
    "def get_web_page_content(url):\n",
    "    print(url)\n",
    "    session = requests.Session()\n",
    "    # session.headers.update(headers)\n",
    "    try:\n",
    "        resp = session.get(url)\n",
    "    except requests.exceptions.ConnectionError:\n",
    "        r.status_code = \"Connection refused\"\n",
    "    content = resp.content\n",
    "    soup = BeautifulSoup(content)\n",
    "    time.sleep(0.25)\n",
    "    return soup"
   ]
  },
  {
   "cell_type": "code",
   "execution_count": 12,
   "metadata": {},
   "outputs": [],
   "source": [
    "def get_relevant_articles(search_queries):\n",
    "    threads = min(MAX_THREADS, len(search_queries))\n",
    "    \n",
    "    with concurrent.futures.ThreadPoolExecutor(max_workers=threads) as executor:\n",
    "        page_contents = list(executor.map(get_web_page_content, search_queries))\n",
    "    \n",
    "    with concurrent.futures.ThreadPoolExecutor(max_workers=threads) as executor:\n",
    "        articles = list(executor.map(find_names_links, page_contents))\n",
    "\n",
    "    articles = [article for article_list in articles for article in article_list]\n",
    "    return articles"
   ]
  },
  {
   "cell_type": "code",
   "execution_count": 13,
   "metadata": {},
   "outputs": [],
   "source": [
    "def find_references(page_content):\n",
    "    \"\"\"Make a list of the references found from a webpage content\n",
    "\n",
    "    Keyword arguments:\n",
    "    content -- the webpage content parsed with BeautifulSoup\n",
    "    \"\"\"\n",
    "    references = []\n",
    "    for d in page_content.find_all(\"span\", attrs = {\"class\": \"NLM_article-title\"}):\n",
    "        references.append(d.text)\n",
    "    return references"
   ]
  },
  {
   "cell_type": "code",
   "execution_count": 31,
   "metadata": {},
   "outputs": [],
   "source": [
    "def get_relevant_references(articles):\n",
    "    threads = min(MAX_THREADS, len(articles))\n",
    "    links = [article.get_link() for article in articles]\n",
    "    print(len(links))\n",
    "    with concurrent.futures.ThreadPoolExecutor(max_workers=threads) as executor:\n",
    "        page_contents = list(executor.map(get_web_page_content, links))\n",
    "    #print(page_contents)\n",
    "    with concurrent.futures.ThreadPoolExecutor(max_workers=threads) as executor:\n",
    "        references = list(executor.map(find_references, page_contents))\n",
    "    print(references)\n",
    "    for i in range(len(articles)):\n",
    "        articles[i].set_references(references[i])\n",
    "    \n",
    "    return articles"
   ]
  },
  {
   "cell_type": "code",
   "execution_count": 32,
   "metadata": {},
   "outputs": [],
   "source": [
    "def main(search_query, pages, artcles_per_page):\n",
    "    # PHASE1\n",
    "    t0 = time.time()\n",
    "    urls = create_search_urls(search_query, pages, artcles_per_page)\n",
    "    articles = get_relevant_articles(urls)\n",
    "    # contents = download_stories(story_urls)\n",
    "    t1 = time.time()\n",
    "    print(f\"{t1-t0} seconds to get {pages * artcles_per_page} relevant articles.\")\n",
    "    # PHASE2\n",
    "    t0 = time.time()\n",
    "    articles = get_relevant_references(articles)\n",
    "    t1 = time.time()\n",
    "    print(f\"{t1-t0} seconds to get {pages * artcles_per_page} relevant references.\")\n",
    "    return articles"
   ]
  },
  {
   "cell_type": "code",
   "execution_count": 33,
   "metadata": {},
   "outputs": [
    {
     "name": "stdout",
     "output_type": "stream",
     "text": [
      "https://journals.sagepub.com/action/doSearch?content=articlesChapters&countTerms=true&target=default&field1=AllField&text1=circular+economy&field2=AllField&text2=plastic+packaging&field3=AllField&text3=value+creation&pageSize=3&startPage=0\n",
      "https://journals.sagepub.com/action/doSearch?content=articlesChapters&countTerms=true&target=default&field1=AllField&text1=circular+economy&field2=AllField&text2=plastic+packaging&field3=AllField&text3=value+creation&pageSize=3&startPage=1\n",
      "https://journals.sagepub.com/action/doSearch?content=articlesChapters&countTerms=true&target=default&field1=AllField&text1=circular+economy&field2=AllField&text2=plastic+packaging&field3=AllField&text3=value+creation&pageSize=3&startPage=2\n",
      "https://journals.sagepub.com/action/doSearch?content=articlesChapters&countTerms=true&target=default&field1=AllField&text1=circular+economy&field2=AllField&text2=plastic+packaging&field3=AllField&text3=value+creation&pageSize=3&startPage=3\n",
      "1.8701679706573486 seconds to get 12 relevant articles.\n",
      "12\n",
      "https://journals.sagepub.com/doi/full/10.1177/0008125618759684\n",
      "https://journals.sagepub.com/doi/full/10.1177/0008125618764692\n",
      "https://journals.sagepub.com/doi/full/10.1177/1023263X19840943\n",
      "https://journals.sagepub.com/doi/full/10.1177/0008125617752694\n",
      "https://journals.sagepub.com/doi/full/10.1177/1099636218795379\n",
      "https://journals.sagepub.com/doi/full/10.1177/0008125617752695\n",
      "https://journals.sagepub.com/doi/full/10.1177/0958305X19876055\n",
      "https://journals.sagepub.com/doi/full/10.1177/0008125618764691\n",
      "https://journals.sagepub.com/doi/full/10.1177/0269094219854679\n",
      "https://journals.sagepub.com/doi/full/10.1177/0734242X15613154\n",
      "https://journals.sagepub.com/doi/full/10.1177/0734242X15626015\n",
      "https://journals.sagepub.com/doi/full/10.1177/0734242X19826776\n",
      "[[], [], [], [], ['Low-velocity impact and flexural properties of thermoplastic polyurethane/woven glass fabric composite laminates', 'Comparative lifecycle assessment of mango packaging made from a polyethylene/natural fiber-composite and from cardboard material', 'Potential materials for food packaging from nanoclay/natural fibres filled hybrid composites', 'Characterization of wood plastic composites manufactured from recycled plastic blends', 'Feasibility of using straw in a strong, thin, pulp moulded packaging material', 'Pyrolysis of plastic packaging waste: a comparison of plastic residuals from material recovery facilities with simulated plastic waste', 'Extension of the sorting instructions for household plastic packaging and changes in exposure to bioaerosols at materials recovery facilities', 'Assessment of plastic packaging waste: material origin, methods, properties', 'Tensile and fatigue characterisation of textile cotton waste/polypropylene laminates', 'Behavior of the interphase of dyed cotton residue flocks reinforced polypropylene composites', 'The use of an interleaved film for optimising the properties of hot compacted polyethylene single polymer composites', 'Hot-compacted self-reinforced polyamide 6 composite laminates', 'The influence of process parameters on the properties of hot compacted self-reinforced polypropylene composites', 'Tensile properties of thermoplastic-laminated composites based on a polypropylene matrix reinforced with continuous twaron fibers', 'Influence of fibre orientation on the tensile performance of sandwich composites in fire', 'Curved sandwich composites with layer-wise graded cores under impact loads', 'Low-velocity impact and static behaviors of high-resilience thermal-bonding inter/intra-ply hybrid composites', 'Polymer composites made of multi-walled carbon nanotubes and graphene nano-sheets: effects of sandwich structures on their electromagnetic interference shielding effectiveness', 'Woven fabric composites: can we peel it?', 'Effects of needle punching and hot pressing on mechanical properties of composite geotextiles', 'UV-assisted surface modification of PET fiber for adhesion improvement', 'Adhesion characteristics of fiber-exposed glass composites', 'Interface modification of glass fibre–polyester composite–composite joints using peel plies. Int', 'Effect of surface roughness on interlaminar peel and shear strength of CFRP/Mg laminates', 'A study of PP/PET composites: factorial design, mechanical and thermal properties', 'Post-crosslinkable biodegradable thermoplastic polyurethanes: synthesis, and thermal, mechanical, and degradation properties', 'Transcrystalline formation and properties of polypropylene on the surface of ramie fiber as induced by shear or dopamine modification', 'Structure development and properties of PET fibre filled PP composites', 'Development of woven fabric reinforced all-polypropylene composites with beta nucleated homo- and copolymer matrices', 'Effects of aramid fibers and colloidal particle fillers in composite ethylene propylene diene monomer rubber thermal insulators for rocket motor insulation', 'Flame-retardant fibrous materials in an aircraft'], [], ['A study on conversion factors for actual recycling and waste-to-energy rates using life-cycle flow analysis of household waste', 'Potential for energy recovery and greenhouse gas reduction through waste-to-energy technologies'], [], ['The Circular Economy, design thinking and education for sustainability', 'Systemic design approach in policy-making for sustainable territorial development', 'Five countries moving ahead of the pack on Circular Economy legislation', 'Gaps in organisational leadership: Linking strategic and operational activities through design-led propositions', 'Evolution of design for sustainability: From product design to design for system innovations and transitions', 'Attitudes to innovation in peripheral economic regions', 'Product design in a Circular Economy', 'Designing for the knowledge economy: accelerating breakthrough innovation through cocreation', 'The Speedcycle: A design-led framework for fast and slow circular fashion lifecycles', 'Plastic waste inputs from land into the ocean', 'Circular Economy – From review of theories and practices to development of implementation tools', 'Circular product design. A multiple loops life cycle design approach for the Circular Economy', 'Sustainable design: Circular Economy in fashion and textiles', 'Circular cities: Mapping six cities in transition', 'National design strategies and country competitive economic advantage', 'A Circular Economy toolkit as an alternative to improve the application of PSS methodologies', 'Using case studies in research', 'The Circular Economy: A broader perspective for rural areas', 'Co-creation and the new landscapes of design', 'Sustainable design futures: An open design vision for the Circular Economy in fashion and textiles', 'Circular material library. An innovative tool to design Circular Economy', 'Design for circular behaviour: Considering users in a Circular Economy', 'Creating product-service system opportunities for small and medium size firms using service design tools'], ['Modelling the value of a rural biorefinery – Part I: The model description', 'Production of bioethanol from lignocellulosic materials via the biochemical pathway: A review', 'Technology development for the production of biobased products from biorefinery carbohydrates—the US Department of Energy’s “Top 10” revisited', 'Hemicellulose biorefineries: A review on biomass pretreatments', 'Interannual variability of crop residue potential in the North Central region of the United States', 'Modeling the effect of temperature and precipitation on crop residue potential for the North Central Region of the United States', 'Biomass valorisation by staged degasification: A new pyrolysis-based thermochemical conversion option to produce value-added chemicals from lignocellulosic biomass', 'Biodiesel from anchovy oil with supercritical methanol transesterification', 'Production of renewable phenolic resins by thermochemical conversion of biomass: A review', 'Promoting second generation biofuels: Does the first generation pave the road?', 'Sustainable production of second generation biofuels, potential and perspectives in major economies and developing countries: Information paper', 'Biorefinery systems: An overview', 'Production of platform chemicals and synthesis gas from biomass', 'Design of integrated biorefineries', 'On the use of systems technologies and a systematic approach for the synthesis and the design of future biorefineries', 'Methods for pretreatment of lignocellulosic biomass for efficient hydrolysis and biofuel production', 'Les initiatives commerciales de bioraffinage en Région Wallonne: production de biocarburants et voies de valorisation connexes', 'Le bioraffinage, une alternative prometteuse à la pétrochimie', 'Market projections of cellulose nanomaterial-enabled products – Part 1: Applications', 'Production of levulinic acid in urban biorefineries', 'Production of bioethanol from wheat straw: An overview on pretreatment, hydrolysis and fermentation', 'Thermodynamic properties of plant biomass components. Heat capacity, combustion energy, and gasification equilibria of lignin', 'Bio-fuel and chemicals by thermochemical treating of biomass', 'LCA of second generation bioethanol: A review and some issues to be resolved for good LCA practice'], ['The cradle to cradle concept – is it always sustainable?', 'Challenges for the waste industry in the EU', 'Are emissions or wastes consisting of biological nutrients good or healthy?'], ['SOER 2010 Material resources and waste − 2012 update', 'Regulation (EC) No 1907/2006 of the European Parliament and of the Council of 18 December 2006 concerning the Registration, Evaluation', 'Directive 2008/98/EC of the European Parliament and of the Council', 'COM(2015) 614 final – Closing the loop – An EU action plan for the circular economy', 'COM(2018) 32 final – Implementation of the circular economy package: Options to address the interface between chemical, product and waste legislation', 'Waste statistics - Waste generation, 2016', 'A circular economy model of economic growth', 'The decoupling of affluence and waste discharge under spatial correlation: Do richer communities discharge more waste?']]\n",
      "10.860150814056396 seconds to get 12 relevant references.\n"
     ]
    }
   ],
   "source": [
    "articles = main(search_query, 3, 4)"
   ]
  },
  {
   "cell_type": "code",
   "execution_count": 34,
   "metadata": {},
   "outputs": [
    {
     "data": {
      "text/plain": [
       "('circular economy 3d printing and the biosphere rules',\n",
       " 'https://journals.sagepub.com/doi/full/10.1177/0008125618759684',\n",
       " [])"
      ]
     },
     "execution_count": 34,
     "metadata": {},
     "output_type": "execute_result"
    }
   ],
   "source": [
    "articles[0].get_name(), articles[0].get_link(), articles[0].get_references()"
   ]
  },
  {
   "cell_type": "code",
   "execution_count": null,
   "metadata": {},
   "outputs": [],
   "source": [
    "folder = \"data/search_results/\""
   ]
  },
  {
   "cell_type": "code",
   "execution_count": null,
   "metadata": {},
   "outputs": [],
   "source": [
    "file_name = \"_\".join(search_query) + \".json\"; file_name"
   ]
  },
  {
   "cell_type": "code",
   "execution_count": null,
   "metadata": {},
   "outputs": [],
   "source": [
    "json.dump(articles, open(file_name, \"w\"))"
   ]
  }
 ],
 "metadata": {
  "kernelspec": {
   "display_name": "Python 3",
   "language": "python",
   "name": "python3"
  },
  "language_info": {
   "codemirror_mode": {
    "name": "ipython",
    "version": 3
   },
   "file_extension": ".py",
   "mimetype": "text/x-python",
   "name": "python",
   "nbconvert_exporter": "python",
   "pygments_lexer": "ipython3",
   "version": "3.7.1"
  }
 },
 "nbformat": 4,
 "nbformat_minor": 2
}
