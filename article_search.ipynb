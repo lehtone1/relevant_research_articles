{
 "cells": [
  {
   "cell_type": "code",
   "execution_count": null,
   "metadata": {},
   "outputs": [],
   "source": [
    "import requests\n",
    "import json\n",
    "from bs4 import BeautifulSoup\n",
    "from tqdm import tqdm"
   ]
  },
  {
   "cell_type": "markdown",
   "metadata": {},
   "source": [
    "Improvement list:\n",
    "\n",
    "1. How to make content fetching faster? - Investigate sagepub content and see if you can search only a a part of the whole content"
   ]
  },
  {
   "cell_type": "code",
   "execution_count": 8,
   "metadata": {},
   "outputs": [],
   "source": [
    "search_query = [\"technology\", \"for\", \"peacebuilding\"]"
   ]
  },
  {
   "cell_type": "markdown",
   "metadata": {},
   "source": [
    "# Get Relevant Articles"
   ]
  },
  {
   "cell_type": "code",
   "execution_count": 9,
   "metadata": {},
   "outputs": [],
   "source": [
    "def parse_url_content(url):\n",
    "    \"\"\"Parse url content with BeautifulSoup \n",
    "\n",
    "    Keyword arguments:\n",
    "    url -- the webpage url\n",
    "    \"\"\"\n",
    "    request = requests.get(url)\n",
    "    content = request.content\n",
    "    soup = BeautifulSoup(content)\n",
    "    return soup"
   ]
  },
  {
   "cell_type": "code",
   "execution_count": 10,
   "metadata": {},
   "outputs": [],
   "source": [
    "def create_sagepub_url_from_search_query(search_query, amount):\n",
    "    \"\"\"Create an url from the given search query\n",
    "\n",
    "    Keyword arguments:\n",
    "    search_query -- a list of given search words\n",
    "    amount -- the amount of articles mathicng the searh qyery to be shown\n",
    "    \"\"\"\n",
    "    website = \"https://journals.sagepub.com/action/doSearch?filterOption=allJournal&AllField=\"\n",
    "    return website + \"+\".join(search_query) + \"&pageSize=\" + str(amount)\n",
    "    "
   ]
  },
  {
   "cell_type": "code",
   "execution_count": 11,
   "metadata": {},
   "outputs": [],
   "source": [
    "def create_article_link_dict(soup):\n",
    "    \"\"\"Create an article dictionary that contains article names as its keys and article \n",
    "    paths as its keys.\n",
    "\n",
    "    Keyword arguments:\n",
    "    soup -- a webpage parsed with Beautifulsoup\n",
    "    \"\"\"\n",
    "    articles = {}\n",
    "    for d in soup.find_all(\"span\", attrs = {\"class\": \"art_title\"}):\n",
    "        articles[d.text] = d.a[\"href\"]\n",
    "    return(articles)"
   ]
  },
  {
   "cell_type": "code",
   "execution_count": 13,
   "metadata": {},
   "outputs": [],
   "source": [
    "def search_articles(search_query, amount = 200):\n",
    "    \"\"\"Search from sagepub website articles that match a given search query\n",
    "\n",
    "    Keyword arguments:\n",
    "    search_query -- a list of given search words\n",
    "    amount -- the amount of matching articles to be returned\n",
    "    \"\"\"\n",
    "    url = create_url(search_query, amount)\n",
    "    soup = parse_url_content(url)\n",
    "    articles = create_article_link_dict(soup)\n",
    "    return(articles)"
   ]
  },
  {
   "cell_type": "code",
   "execution_count": 14,
   "metadata": {},
   "outputs": [
    {
     "name": "stdout",
     "output_type": "stream",
     "text": [
      "186\n"
     ]
    }
   ],
   "source": [
    "articles = search_articles(search_query); print(len(articles))"
   ]
  },
  {
   "cell_type": "code",
   "execution_count": 15,
   "metadata": {},
   "outputs": [
    {
     "data": {
      "text/plain": [
       "'technology_for_peacebuilding_articles.json'"
      ]
     },
     "execution_count": 15,
     "metadata": {},
     "output_type": "execute_result"
    }
   ],
   "source": [
    "file_name = \"_\".join(search_query) + \"_articles\" +  \".json\"; file_name"
   ]
  },
  {
   "cell_type": "code",
   "execution_count": 16,
   "metadata": {},
   "outputs": [],
   "source": [
    "json.dump( articles, open( file_name, 'w' ) )\n"
   ]
  },
  {
   "cell_type": "code",
   "execution_count": 17,
   "metadata": {},
   "outputs": [
    {
     "name": "stdout",
     "output_type": "stream",
     "text": [
      "186\n"
     ]
    }
   ],
   "source": [
    "articles = json.load( open( file_name ) ); print(len(articles))\n"
   ]
  },
  {
   "cell_type": "markdown",
   "metadata": {},
   "source": [
    "# Get Relevant References"
   ]
  },
  {
   "cell_type": "code",
   "execution_count": 20,
   "metadata": {},
   "outputs": [],
   "source": [
    "def create_article_url(path):\n",
    "    \"\"\"Create an article url by combining sagepub url and the article specific path\n",
    "\n",
    "    Keyword arguments:\n",
    "    path -- the path to a specific article\n",
    "    \"\"\"\n",
    "    sage_url = \"https://journals.sagepub.com\"\n",
    "    return sage_url + path"
   ]
  },
  {
   "cell_type": "code",
   "execution_count": 21,
   "metadata": {},
   "outputs": [],
   "source": [
    "def get_article_reference_list(content):\n",
    "    \"\"\"Make a list of the references found from a webpage content\n",
    "\n",
    "    Keyword arguments:\n",
    "    content -- the webpage content parsed with BeautifulSoup\n",
    "    \"\"\"\n",
    "    references = []\n",
    "    for d in content.find_all(\"span\", attrs = {\"class\": \"NLM_article-title\"}):\n",
    "        references.append(d.text)\n",
    "    return references"
   ]
  },
  {
   "cell_type": "code",
   "execution_count": 22,
   "metadata": {},
   "outputs": [],
   "source": [
    "def create_reference_dict(articles): \n",
    "    \"\"\"Create a dictionary that has as its keys the names of different articles and as its\n",
    "    values the references that were mentioned in an article\n",
    "\n",
    "    Keyword arguments:\n",
    "    articles -- a dictionary of articles where the key is the article name and the item is\n",
    "    the link to the article\n",
    "    \"\"\"\n",
    "    reference_dict = {}\n",
    "    for name, link in tqdm(articles.items()):\n",
    "        url = create_article_url(link)\n",
    "        content = parse_url_content(url)\n",
    "        references = get_article_reference_list(content)\n",
    "        reference_dict[name] = references\n",
    "    return reference_dict"
   ]
  },
  {
   "cell_type": "code",
   "execution_count": 23,
   "metadata": {},
   "outputs": [
    {
     "name": "stderr",
     "output_type": "stream",
     "text": [
      "100%|██████████| 186/186 [09:54<00:00,  3.57s/it]\n"
     ]
    }
   ],
   "source": [
    "references  = create_reference_dict(articles)"
   ]
  },
  {
   "cell_type": "code",
   "execution_count": 25,
   "metadata": {},
   "outputs": [
    {
     "data": {
      "text/plain": [
       "'technology_for_peacebuilding_references.json'"
      ]
     },
     "execution_count": 25,
     "metadata": {},
     "output_type": "execute_result"
    }
   ],
   "source": [
    "file_name = \"_\".join(search_query) + \"_references\" +  \".json\"; file_name"
   ]
  },
  {
   "cell_type": "code",
   "execution_count": 26,
   "metadata": {},
   "outputs": [],
   "source": [
    "json.dump( references, open( file_name, 'w' ) )"
   ]
  },
  {
   "cell_type": "code",
   "execution_count": 27,
   "metadata": {},
   "outputs": [],
   "source": [
    "references = json.load( open( file_name ) )\n"
   ]
  }
 ],
 "metadata": {
  "kernelspec": {
   "display_name": "Python 3",
   "language": "python",
   "name": "python3"
  },
  "language_info": {
   "codemirror_mode": {
    "name": "ipython",
    "version": 3
   },
   "file_extension": ".py",
   "mimetype": "text/x-python",
   "name": "python",
   "nbconvert_exporter": "python",
   "pygments_lexer": "ipython3",
   "version": "3.7.1"
  }
 },
 "nbformat": 4,
 "nbformat_minor": 2
}
